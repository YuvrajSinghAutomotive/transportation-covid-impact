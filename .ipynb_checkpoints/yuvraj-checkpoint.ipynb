{
 "cells": [
  {
   "cell_type": "markdown",
   "id": "862a1eda-ce9c-4d30-a5ae-5c0a49ffbdb2",
   "metadata": {},
   "source": [
    "### Run script"
   ]
  },
  {
   "cell_type": "code",
   "execution_count": 1,
   "id": "856f1907-2783-43ec-9441-825f0c9a4f9c",
   "metadata": {
    "tags": []
   },
   "outputs": [
    {
     "name": "stdout",
     "output_type": "stream",
     "text": [
      "Dataset already downloaded\n",
      "['US_Accidents_Dec20_updated.csv']\n",
      "Number of Raw Data: DataFrames extracted: 1\n"
     ]
    },
    {
     "ename": "KeyboardInterrupt",
     "evalue": "",
     "output_type": "error",
     "traceback": [
      "\u001b[1;31m---------------------------------------------------------------------------\u001b[0m",
      "\u001b[1;31mKeyboardInterrupt\u001b[0m                         Traceback (most recent call last)",
      "\u001b[1;32mD:\\GitHub\\transportation-covid-impact\\yuvraj.py\u001b[0m in \u001b[0;36m<module>\u001b[1;34m\u001b[0m\n\u001b[0;32m      5\u001b[0m \u001b[1;33m\u001b[0m\u001b[0m\n\u001b[0;32m      6\u001b[0m \u001b[0mstart\u001b[0m \u001b[1;33m=\u001b[0m \u001b[0mtime\u001b[0m\u001b[1;33m.\u001b[0m\u001b[0mtime\u001b[0m\u001b[1;33m(\u001b[0m\u001b[1;33m)\u001b[0m\u001b[1;33m\u001b[0m\u001b[1;33m\u001b[0m\u001b[0m\n\u001b[1;32m----> 7\u001b[1;33m \u001b[0mdata\u001b[0m\u001b[1;33m,\u001b[0m\u001b[0mdataPreCovid\u001b[0m\u001b[1;33m,\u001b[0m\u001b[0mdataPostCovid\u001b[0m \u001b[1;33m=\u001b[0m \u001b[0mcleanData\u001b[0m\u001b[1;33m(\u001b[0m\u001b[0mverbose\u001b[0m\u001b[1;33m=\u001b[0m\u001b[1;36m0\u001b[0m\u001b[1;33m)\u001b[0m\u001b[1;33m\u001b[0m\u001b[1;33m\u001b[0m\u001b[0m\n\u001b[0m\u001b[0;32m      8\u001b[0m \u001b[0mend\u001b[0m \u001b[1;33m=\u001b[0m \u001b[0mtime\u001b[0m\u001b[1;33m.\u001b[0m\u001b[0mtime\u001b[0m\u001b[1;33m(\u001b[0m\u001b[1;33m)\u001b[0m\u001b[1;33m\u001b[0m\u001b[1;33m\u001b[0m\u001b[0m\n\u001b[0;32m      9\u001b[0m \u001b[0mprint\u001b[0m\u001b[1;33m(\u001b[0m\u001b[1;34m'Time: Data Extraction: {} seconds'\u001b[0m\u001b[1;33m.\u001b[0m\u001b[0mformat\u001b[0m\u001b[1;33m(\u001b[0m\u001b[0mend\u001b[0m \u001b[1;33m-\u001b[0m \u001b[0mstart\u001b[0m\u001b[1;33m)\u001b[0m \u001b[1;33m)\u001b[0m\u001b[1;33m;\u001b[0m\u001b[1;33m\u001b[0m\u001b[1;33m\u001b[0m\u001b[0m\n",
      "\u001b[1;32mD:\\GitHub\\transportation-covid-impact\\cleanData.py\u001b[0m in \u001b[0;36mcleanData\u001b[1;34m(verbose)\u001b[0m\n\u001b[0;32m     89\u001b[0m             \u001b[1;32mcontinue\u001b[0m\u001b[1;33m\u001b[0m\u001b[1;33m\u001b[0m\u001b[0m\n\u001b[0;32m     90\u001b[0m \u001b[1;33m\u001b[0m\u001b[0m\n\u001b[1;32m---> 91\u001b[1;33m     \u001b[0mincidentTimeLength\u001b[0m \u001b[1;33m=\u001b[0m \u001b[0mnp\u001b[0m\u001b[1;33m.\u001b[0m\u001b[0marray\u001b[0m\u001b[1;33m(\u001b[0m\u001b[0mendTime\u001b[0m\u001b[1;33m)\u001b[0m \u001b[1;33m-\u001b[0m \u001b[0mnp\u001b[0m\u001b[1;33m.\u001b[0m\u001b[0marray\u001b[0m\u001b[1;33m(\u001b[0m\u001b[0mstartTime\u001b[0m\u001b[1;33m)\u001b[0m\u001b[1;33m\u001b[0m\u001b[1;33m\u001b[0m\u001b[0m\n\u001b[0m\u001b[0;32m     92\u001b[0m \u001b[1;33m\u001b[0m\u001b[0m\n\u001b[0;32m     93\u001b[0m     \u001b[1;31m# Remove data points with invalid times\u001b[0m\u001b[1;33m\u001b[0m\u001b[1;33m\u001b[0m\u001b[0m\n",
      "\u001b[1;31mKeyboardInterrupt\u001b[0m: "
     ]
    }
   ],
   "source": [
    "%run yuvraj.py 0"
   ]
  },
  {
   "cell_type": "markdown",
   "id": "660a4123-23a8-4a01-aa55-a2012b39b542",
   "metadata": {},
   "source": [
    "# Test changes"
   ]
  },
  {
   "cell_type": "code",
   "execution_count": 25,
   "id": "8c3a0ddc-3c5f-4bf2-a077-8d735bc21ec7",
   "metadata": {},
   "outputs": [],
   "source": [
    "def corrMatrix(data,title='Correlation Matrix'):\n",
    "    dataNorm = ( data - data.mean() ) / data.std()\n",
    "    fig = plt.figure(figsize=(15,15),dpi=200)\n",
    "    plt.imshow(np.corrcoef(data.T),cmap='PiYG')\n",
    "    plt.colorbar(shrink=0.3)\n",
    "    plt.xticks(ticks=np.arange(len(data.columns)), labels=data.columns, fontsize=4, rotation=90)\n",
    "    plt.yticks(ticks=np.arange(len(data.columns)), labels=data.columns, fontsize=4)\n",
    "    plt.tight_layout()\n",
    "    plt.title(title)\n",
    "    plt.close()\n",
    "    return fig\n",
    "    \n",
    "def corrMatrixHighCorr(data,corrThresh=0.5,title='Correlation Matrix (Strong Correlations, absolute value > 0.5)'):\n",
    "    dataNorm = ( data - data.mean() ) / data.std()\n",
    "    fig = plt.figure(figsize=(15,15),dpi=200)\n",
    "    plt.imshow(np.abs(np.corrcoef(data.T))>corrThresh,cmap='gray')\n",
    "    plt.colorbar(shrink=0.3)\n",
    "    plt.xticks(ticks=np.arange(len(data.columns)), labels=data.columns, fontsize=4, rotation=90)\n",
    "    plt.yticks(ticks=np.arange(len(data.columns)), labels=data.columns, fontsize=4)\n",
    "    plt.tight_layout()\n",
    "    plt.title(title)\n",
    "    plt.close()\n",
    "    return fig\n",
    "\n",
    "predictors = pd.DataFrame(dataDict['X'], columns=dataDict['predictorNames'])\n",
    "fig = corrMatrixHighCorr(predictors)\n",
    "fig.savefig('./Plots/CorrMatrixHighThresh.svg')\n",
    "fig = corrMatrix(predictors)\n",
    "fig.savefig('./Plots/CorrMatrix.svg')\n",
    "\n",
    "predictorsPreCovid = pd.DataFrame(dataDictPreCovid['X'], columns=dataDictPreCovid['predictorNames'])\n",
    "fig = corrMatrixHighCorr(predictorsPreCovid)\n",
    "fig.savefig('./Plots/CorrMatrixHighThreshPreCovid.svg')\n",
    "fig = corrMatrix(predictorsPreCovid)\n",
    "fig.savefig('./Plots/CorrMatrixPreCovid.svg')\n",
    "\n",
    "predictorsPostCovid = pd.DataFrame(dataDictPostCovid['X'], columns=dataDictPostCovid['predictorNames'])\n",
    "fig = corrMatrixHighCorr(predictorsPostCovid)\n",
    "fig.savefig('./Plots/CorrMatrixHighThreshPostCovid.svg')\n",
    "fig = corrMatrix(predictorsPostCovid)\n",
    "fig.savefig('./Plots/CorrMatrixPostCovid.svg')\n"
   ]
  },
  {
   "cell_type": "code",
   "execution_count": 65,
   "id": "f386cf79-7eb3-49a7-855a-9b9d33f65f9c",
   "metadata": {
    "tags": []
   },
   "outputs": [],
   "source": [
    "def plotPredictorVsResponse(predictorsDataFrame,predictorName,actualResponse,predictedResponse,hueVarName,labels=['Pre-Covid','Post-Covid']):\n",
    "    fig,ax = plt.subplots(nrows=1,ncols=2,figsize=(10,3.5),dpi=100)\n",
    "    if type(hueVarName) != type(None):\n",
    "        hueVar = predictorsDataFrame[hueVarName].values\n",
    "        ax[0].scatter(predictorsDataFrame[predictorName].loc[hueVar==1],actualResponse[np.where(hueVar==1)]-0.1,label=labels[0],color='green') # ,edgecolors='k')\n",
    "        ax[0].scatter(predictorsDataFrame[predictorName].loc[hueVar==0],actualResponse[np.where(hueVar==0)]+0.1,label=labels[1],color='red') # ,edgecolors='k')\n",
    "        ax[0].legend(loc='lower left',ncol=2)\n",
    "    else:\n",
    "        ax[0].scatter(predictorsDataFrame[predictorName],actualResponse,color='green')\n",
    "    ax[0].set_xlabel(predictorName)\n",
    "    ax[0].set_ylabel('severity')\n",
    "    ax[0].set_yticks(np.arange(5))\n",
    "    ax[0].set_title('{} vs actual severity'.format(predictorName)) \n",
    "    if type(hueVarName) != type(None):\n",
    "        ax[1].scatter(predictorsDataFrame[predictorName].loc[hueVar==1],predictedResponse[np.where(hueVar==1)]-0.1,label=labels[0],color='green') # ,edgecolors='k')\n",
    "        ax[1].scatter(predictorsDataFrame[predictorName].loc[hueVar==0],predictedResponse[np.where(hueVar==0)]+0.1,label=labels[1],color='red') # ,edgecolors='k')\n",
    "        ax[1].legend(loc='lower left',ncol=2)\n",
    "    else:\n",
    "        ax[1].scatter(predictorsDataFrame[predictorName],predictedResponse,color='green')    \n",
    "    ax[1].set_xlabel(predictorName)\n",
    "    ax[1].set_ylabel('severity')\n",
    "    ax[1].set_yticks(np.arange(5))\n",
    "    ax[1].set_title('{} vs predicted severity'.format(predictorName))\n",
    "    fig.tight_layout()\n",
    "    plt.close()\n",
    "    return fig\n",
    "\n"
   ]
  },
  {
   "cell_type": "code",
   "execution_count": 69,
   "id": "eeec3b1a-c5c8-4aea-8f6b-1a94981c1cbc",
   "metadata": {},
   "outputs": [],
   "source": [
    "predictorsTest = pd.DataFrame(XTest, columns=dataDict['predictorNames'])\n",
    "for i in range(len(predictorsTest.columns)):\n",
    "    fig = plotPredictorVsResponse(predictorsDataFrame=predictorsTest,\n",
    "                                  predictorName=predictorsTest.columns[i],\n",
    "                                  actualResponse=YTest,\n",
    "                                  predictedResponse=Mdls['Predictions'][0],\n",
    "                                  hueVarName='preCovid',\n",
    "                                  labels=['Pre-Covid','Post-Covid'])\n",
    "    fig.savefig('./Plots/Logistic results/complete data/fig_{}.jpg'.format(i),dpi=300)"
   ]
  },
  {
   "cell_type": "code",
   "execution_count": 67,
   "id": "10708269-fc70-4e59-a309-247493cf37ba",
   "metadata": {},
   "outputs": [],
   "source": [
    "predictorsTestPreCovid = pd.DataFrame(XTestPreCovid, columns=dataDictPreCovid['predictorNames'])\n",
    "for i in range(len(predictorsTestPreCovid.columns)):\n",
    "    fig = plotPredictorVsResponse(predictorsDataFrame=predictorsTestPreCovid,\n",
    "                                  predictorName=predictorsTestPreCovid.columns[i],\n",
    "                                  actualResponse=YTestPreCovid,\n",
    "                                  predictedResponse=MdlsPreCovid['Predictions'][0],\n",
    "                                  hueVarName=None,\n",
    "                                  labels=['Pre-Covid','Post-Covid'])\n",
    "    fig.savefig('./Plots/Logistic results/preCovid/fig_{}.jpg'.format(i),dpi=300)"
   ]
  },
  {
   "cell_type": "code",
   "execution_count": null,
   "id": "b6599d73-b0c4-4c8c-82cb-20dc7f48d706",
   "metadata": {},
   "outputs": [],
   "source": []
  }
 ],
 "metadata": {
  "kernelspec": {
   "display_name": "Python 3 (ipykernel)",
   "language": "python",
   "name": "python3"
  },
  "language_info": {
   "codemirror_mode": {
    "name": "ipython",
    "version": 3
   },
   "file_extension": ".py",
   "mimetype": "text/x-python",
   "name": "python",
   "nbconvert_exporter": "python",
   "pygments_lexer": "ipython3",
   "version": "3.9.7"
  }
 },
 "nbformat": 4,
 "nbformat_minor": 5
}
