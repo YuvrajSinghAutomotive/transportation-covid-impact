{
 "cells": [
  {
   "cell_type": "code",
   "execution_count": null,
   "id": "6319eb87-c023-4ddc-9586-5bf06a86408c",
   "metadata": {},
   "outputs": [
    {
     "name": "stdout",
     "output_type": "stream",
     "text": [
      "Dataset already downloaded\n",
      "['US_Accidents_Dec20_updated.csv']\n",
      "Number of Raw Data: DataFrames extracted: 1\n",
      "Deleted: 34680 values (2.287502374569939% of raw data) because of invalid time format\n",
      "\n",
      "\n",
      "################################################################### \n",
      "\n",
      "column: Side. Number of possible values: 2 \n",
      "\tValues = ['R' 'L']\n",
      "\n",
      "column: State. Number of possible values: 49 \n",
      "\tValues = ['OH' 'IN' 'KY' 'WV' 'PA' 'MI' 'CA' 'MN' 'LA' 'NE' 'MO' 'IA' 'ND' 'CO'\n",
      " 'KS' 'TX' 'WI' 'OK' 'WY' 'SD' 'MS' 'AR' 'IL' 'MA' 'RI' 'ME' 'NY' 'TN'\n",
      " 'FL' 'MD' 'NC' 'GA' 'VA' 'CT' 'NJ' 'DE' 'NH' 'SC' 'VT' 'DC' 'AL' 'MT'\n",
      " 'ID' 'UT' 'AZ' 'NM' 'NV' 'WA' 'OR']\n",
      "\n",
      "column: Timezone. Number of possible values: 4 \n",
      "\tValues = ['US/Eastern' 'US/Pacific' 'US/Central' 'US/Mountain']\n",
      "\n",
      "column: Wind_Direction. Number of possible values: 23 \n",
      "\tValues = ['SW' 'WSW' 'West' 'NNW' 'WNW' 'NW' 'W' 'SSW' 'East' 'SE' 'North' 'ENE'\n",
      " 'NNE' 'NE' 'SSE' 'CALM' 'South' 'ESE' 'S' 'Variable' 'VAR' 'N' 'E']\n",
      "\n",
      "column: Weather_Condition. Number of possible values: 99 \n",
      "\tValues = ['Light Rain' 'Snow' 'Light Snow' 'Mostly Cloudy' 'Cloudy' 'Partly Cloudy'\n",
      " 'Overcast' 'Scattered Clouds' 'Light Freezing Drizzle' 'Light Drizzle'\n",
      " 'Rain' 'Fair' 'Fog' 'Haze' 'Light Freezing Rain' 'Clear' 'Heavy Snow'\n",
      " 'Drizzle' 'Heavy Rain' 'Light Ice Pellets' 'Thunder'\n",
      " 'Thunder in the Vicinity' 'Fair / Windy' 'Light Rain with Thunder'\n",
      " 'Heavy Thunderstorms and Snow' 'Blowing Snow' 'Cloudy / Windy'\n",
      " 'Ice Pellets' 'N/A Precipitation' 'Light Thunderstorms and Rain'\n",
      " 'Thunderstorms and Rain' 'Light Thunderstorms and Snow' 'Mist' 'T-Storm'\n",
      " 'Rain / Windy' 'Wintry Mix' 'Heavy Thunderstorms and Rain'\n",
      " 'Partly Cloudy / Windy' 'Heavy T-Storm' 'Shallow Fog'\n",
      " 'Light Rain / Windy' 'Blowing Dust / Windy' 'Blowing Dust'\n",
      " 'Freezing Rain / Windy' 'Light Freezing Fog' 'Mostly Cloudy / Windy'\n",
      " 'Smoke' 'Light Snow / Windy' 'Heavy Ice Pellets' 'Thunderstorm'\n",
      " 'Heavy Snow / Windy' 'Heavy Rain / Windy' 'Small Hail' 'Heavy Drizzle'\n",
      " 'Heavy T-Storm / Windy' 'Fog / Windy' 'Showers in the Vicinity'\n",
      " 'Haze / Windy' 'Light Rain Shower' 'Smoke / Windy'\n",
      " 'Light Drizzle / Windy' 'Patches of Fog' 'Snow / Windy' 'Partial Fog'\n",
      " 'Light Freezing Rain / Windy' 'Sleet' 'Blowing Snow / Windy'\n",
      " 'Snow and Sleet' 'Snow and Sleet / Windy' 'Squalls / Windy'\n",
      " 'Wintry Mix / Windy' 'Light Sleet / Windy' 'Freezing Drizzle'\n",
      " 'Freezing Rain' 'Thunder / Windy' 'Drizzle and Fog' 'Light Sleet'\n",
      " 'Thunder / Wintry Mix / Windy' 'Light Snow and Sleet' 'Rain Shower'\n",
      " 'Sleet / Windy' 'T-Storm / Windy' 'Light Snow and Sleet / Windy'\n",
      " 'Patches of Fog / Windy' 'Drizzle / Windy' 'Sand / Dust Whirls Nearby'\n",
      " 'Widespread Dust' 'Heavy Rain Shower' 'Thunder and Hail' 'Drifting Snow'\n",
      " 'Light Snow Shower' 'Sand / Dust Whirlwinds' 'Light Blowing Snow'\n",
      " 'Light Rain Showers' 'Heavy Thunderstorms with Small Hail'\n",
      " 'Light Snow with Thunder' 'Heavy Snow with Thunder'\n",
      " 'Thunder and Hail / Windy' 'Tornado']\n",
      "\n",
      "column: Sunrise_Sunset. Number of possible values: 2 \n",
      "\tValues = ['Night' 'Day']\n",
      "\n",
      "column: Civil_Twilight. Number of possible values: 2 \n",
      "\tValues = ['Night' 'Day']\n",
      "\n",
      "column: Nautical_Twilight. Number of possible values: 2 \n",
      "\tValues = ['Night' 'Day']\n",
      "\n",
      "column: Astronomical_Twilight. Number of possible values: 2 \n",
      "\tValues = ['Night' 'Day']\n",
      "\n",
      "\n",
      "\n",
      "################################################################### \n",
      "\n",
      "Percentage of data retained after Pre-Processing: 60.02167454672098 % \n",
      "Number of observations retained: 909967\n",
      "\n",
      "\n",
      "################################################################### \n",
      "\n",
      "\n",
      " All Variables (categoricals displayed without one-hot dummy conversion)\n",
      "Severity                        int64\n",
      "Distance(mi)                  float64\n",
      "Side                           object\n",
      "State                          object\n",
      "Timezone                       object\n",
      "Temperature(F)                float64\n",
      "Wind_Chill(F)                 float64\n",
      "Humidity(%)                   float64\n",
      "Pressure(in)                  float64\n",
      "Visibility(mi)                float64\n",
      "Wind_Direction                 object\n",
      "Wind_Speed(mph)               float64\n",
      "Precipitation(in)             float64\n",
      "Weather_Condition              object\n",
      "Amenity                          bool\n",
      "Bump                             bool\n",
      "Crossing                         bool\n",
      "Give_Way                         bool\n",
      "Junction                         bool\n",
      "No_Exit                          bool\n",
      "Railway                          bool\n",
      "Roundabout                       bool\n",
      "Station                          bool\n",
      "Stop                             bool\n",
      "Traffic_Calming                  bool\n",
      "Traffic_Signal                   bool\n",
      "Turning_Loop                     bool\n",
      "Sunrise_Sunset                 object\n",
      "Civil_Twilight                 object\n",
      "Nautical_Twilight              object\n",
      "Astronomical_Twilight          object\n",
      "incidentTimeLength_seconds    float64\n",
      "preCovid                         bool\n",
      "dtype: object)\n",
      "Time: Data Extraction: 75.24525332450867 seconds\n",
      "Correlation with severity\n",
      "Time: Logistic Regression: 54.004812717437744 seconds\n",
      "Accuracy: 0.5952459557609773\n"
     ]
    },
    {
     "data": {
      "image/png": "[encoded data removed]",
      "text/plain": [
       "<Figure size 432x288 with 1 Axes>"
      ]
     },
     "metadata": {
      "needs_background": "light"
     },
     "output_type": "display_data"
    },
    {
     "name": "stdout",
     "output_type": "stream",
     "text": [
      "Overall Accuracy: 0.595\n",
      "User's Accuracy: [0.577 0.622 0.584]\n",
      "Producer's Accuracy: [0.545 0.668 0.572]\n",
      "Kappa Coefficient: 0.392642\n",
      "\n",
      "Time: Random Forest: 9.989318132400513 seconds\n",
      "Accuracy: 0.6525255860019809\n"
     ]
    },
    {
     "data": {
      "image/png": "[encoded data removed]",
      "text/plain": [
       "<Figure size 432x288 with 1 Axes>"
      ]
     },
     "metadata": {
      "needs_background": "light"
     },
     "output_type": "display_data"
    },
    {
     "name": "stdout",
     "output_type": "stream",
     "text": [
      "Overall Accuracy: 0.653\n",
      "User's Accuracy: [0.575 0.698 0.703]\n",
      "Producer's Accuracy: [0.674 0.693 0.593]\n",
      "Kappa Coefficient: 0.479378\n",
      "\n"
     ]
    }
   ],
   "source": [
    "%run mainSVC.py 0 1 0"
   ]
  },
  {
   "cell_type": "code",
   "execution_count": null,
   "id": "0f1d0f87-d0a4-4966-99cb-398325ce6a81",
   "metadata": {},
   "outputs": [],
   "source": []
  },
  {
   "cell_type": "code",
   "execution_count": null,
   "id": "2877952f-83ef-4974-97f0-f40e8f3cf1f5",
   "metadata": {},
   "outputs": [],
   "source": []
  },
  {
   "cell_type": "code",
   "execution_count": null,
   "id": "bac5c0de-b262-4e2a-95f5-20892c1fe362",
   "metadata": {},
   "outputs": [],
   "source": []
  }
 ],
 "metadata": {
  "kernelspec": {
   "display_name": "Python 3 (ipykernel)",
   "language": "python",
   "name": "python3"
  },
  "language_info": {
   "codemirror_mode": {
    "name": "ipython",
    "version": 3
   },
   "file_extension": ".py",
   "mimetype": "text/x-python",
   "name": "python",
   "nbconvert_exporter": "python",
   "pygments_lexer": "ipython3",
   "version": "3.8.12"
  }
 },
 "nbformat": 4,
 "nbformat_minor": 5
}
