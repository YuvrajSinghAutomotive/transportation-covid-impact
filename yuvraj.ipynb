{
 "cells": [
  {
   "cell_type": "markdown",
   "id": "862a1eda-ce9c-4d30-a5ae-5c0a49ffbdb2",
   "metadata": {},
   "source": [
    "### Run script"
   ]
  },
  {
   "cell_type": "code",
   "execution_count": 1,
   "id": "856f1907-2783-43ec-9441-825f0c9a4f9c",
   "metadata": {
    "tags": []
   },
   "outputs": [
    {
     "name": "stdout",
     "output_type": "stream",
     "text": [
      "Dataset already downloaded\n",
      "['US_Accidents_Dec20_updated.csv']\n",
      "Number of Raw Data: DataFrames extracted: 1\n",
      "Deleted: 34680 values (2.287502374569939% of raw data) because of invalid time format\n",
      "\n",
      "\n",
      "################################################################### \n",
      "\n",
      "column: Side. Number of possible values: 2 \n",
      "\tValues = ['R' 'L']\n",
      "\n",
      "column: State. Number of possible values: 49 \n",
      "\tValues = ['OH' 'IN' 'KY' 'WV' 'PA' 'MI' 'CA' 'MN' 'LA' 'NE' 'MO' 'IA' 'ND' 'CO'\n",
      " 'KS' 'TX' 'WI' 'OK' 'WY' 'SD' 'MS' 'AR' 'IL' 'MA' 'RI' 'ME' 'NY' 'TN'\n",
      " 'FL' 'MD' 'NC' 'GA' 'VA' 'CT' 'NJ' 'DE' 'NH' 'SC' 'VT' 'DC' 'AL' 'MT'\n",
      " 'ID' 'UT' 'AZ' 'NM' 'NV' 'WA' 'OR']\n",
      "\n",
      "column: Timezone. Number of possible values: 4 \n",
      "\tValues = ['US/Eastern' 'US/Pacific' 'US/Central' 'US/Mountain']\n",
      "\n",
      "column: Wind_Direction. Number of possible values: 23 \n",
      "\tValues = ['SW' 'WSW' 'West' 'NNW' 'WNW' 'NW' 'W' 'SSW' 'East' 'SE' 'North' 'ENE'\n",
      " 'NNE' 'NE' 'SSE' 'CALM' 'South' 'ESE' 'S' 'Variable' 'VAR' 'N' 'E']\n",
      "\n",
      "column: Weather_Condition. Number of possible values: 99 \n",
      "\tValues = ['Light Rain' 'Snow' 'Light Snow' 'Mostly Cloudy' 'Cloudy' 'Partly Cloudy'\n",
      " 'Overcast' 'Scattered Clouds' 'Light Freezing Drizzle' 'Light Drizzle'\n",
      " 'Rain' 'Fair' 'Fog' 'Haze' 'Light Freezing Rain' 'Clear' 'Heavy Snow'\n",
      " 'Drizzle' 'Heavy Rain' 'Light Ice Pellets' 'Thunder'\n",
      " 'Thunder in the Vicinity' 'Fair / Windy' 'Light Rain with Thunder'\n",
      " 'Heavy Thunderstorms and Snow' 'Blowing Snow' 'Cloudy / Windy'\n",
      " 'Ice Pellets' 'N/A Precipitation' 'Light Thunderstorms and Rain'\n",
      " 'Thunderstorms and Rain' 'Light Thunderstorms and Snow' 'Mist' 'T-Storm'\n",
      " 'Rain / Windy' 'Wintry Mix' 'Heavy Thunderstorms and Rain'\n",
      " 'Partly Cloudy / Windy' 'Heavy T-Storm' 'Shallow Fog'\n",
      " 'Light Rain / Windy' 'Blowing Dust / Windy' 'Blowing Dust'\n",
      " 'Freezing Rain / Windy' 'Light Freezing Fog' 'Mostly Cloudy / Windy'\n",
      " 'Smoke' 'Light Snow / Windy' 'Heavy Ice Pellets' 'Thunderstorm'\n",
      " 'Heavy Snow / Windy' 'Heavy Rain / Windy' 'Small Hail' 'Heavy Drizzle'\n",
      " 'Heavy T-Storm / Windy' 'Fog / Windy' 'Showers in the Vicinity'\n",
      " 'Haze / Windy' 'Light Rain Shower' 'Smoke / Windy'\n",
      " 'Light Drizzle / Windy' 'Patches of Fog' 'Snow / Windy' 'Partial Fog'\n",
      " 'Light Freezing Rain / Windy' 'Sleet' 'Blowing Snow / Windy'\n",
      " 'Snow and Sleet' 'Snow and Sleet / Windy' 'Squalls / Windy'\n",
      " 'Wintry Mix / Windy' 'Light Sleet / Windy' 'Freezing Drizzle'\n",
      " 'Freezing Rain' 'Thunder / Windy' 'Drizzle and Fog' 'Light Sleet'\n",
      " 'Thunder / Wintry Mix / Windy' 'Light Snow and Sleet' 'Rain Shower'\n",
      " 'Sleet / Windy' 'T-Storm / Windy' 'Light Snow and Sleet / Windy'\n",
      " 'Patches of Fog / Windy' 'Drizzle / Windy' 'Sand / Dust Whirls Nearby'\n",
      " 'Widespread Dust' 'Heavy Rain Shower' 'Thunder and Hail' 'Drifting Snow'\n",
      " 'Light Snow Shower' 'Sand / Dust Whirlwinds' 'Light Blowing Snow'\n",
      " 'Light Rain Showers' 'Heavy Thunderstorms with Small Hail'\n",
      " 'Light Snow with Thunder' 'Heavy Snow with Thunder'\n",
      " 'Thunder and Hail / Windy' 'Tornado']\n",
      "\n",
      "column: Sunrise_Sunset. Number of possible values: 2 \n",
      "\tValues = ['Night' 'Day']\n",
      "\n",
      "column: Civil_Twilight. Number of possible values: 2 \n",
      "\tValues = ['Night' 'Day']\n",
      "\n",
      "column: Nautical_Twilight. Number of possible values: 2 \n",
      "\tValues = ['Night' 'Day']\n",
      "\n",
      "column: Astronomical_Twilight. Number of possible values: 2 \n",
      "\tValues = ['Night' 'Day']\n",
      "\n",
      "\n",
      "\n",
      "################################################################### \n",
      "\n",
      "Percentage of data retained after Pre-Processing: 60.02167454672098 % \n",
      "Number of observations retained: 909967\n",
      "\n",
      "\n",
      "################################################################### \n",
      "\n",
      "\n",
      " All Variables (categoricals displayed without one-hot dummy conversion)\n",
      "Severity                        int64\n",
      "Distance(mi)                  float64\n",
      "Side                           object\n",
      "State                          object\n",
      "Timezone                       object\n",
      "Temperature(F)                float64\n",
      "Wind_Chill(F)                 float64\n",
      "Humidity(%)                   float64\n",
      "Pressure(in)                  float64\n",
      "Visibility(mi)                float64\n",
      "Wind_Direction                 object\n",
      "Wind_Speed(mph)               float64\n",
      "Precipitation(in)             float64\n",
      "Weather_Condition              object\n",
      "Amenity                          bool\n",
      "Bump                             bool\n",
      "Crossing                         bool\n",
      "Give_Way                         bool\n",
      "Junction                         bool\n",
      "No_Exit                          bool\n",
      "Railway                          bool\n",
      "Roundabout                       bool\n",
      "Station                          bool\n",
      "Stop                             bool\n",
      "Traffic_Calming                  bool\n",
      "Traffic_Signal                   bool\n",
      "Turning_Loop                     bool\n",
      "Sunrise_Sunset                 object\n",
      "Civil_Twilight                 object\n",
      "Nautical_Twilight              object\n",
      "Astronomical_Twilight          object\n",
      "incidentTimeLength_seconds    float64\n",
      "preCovid                         bool\n",
      "dtype: object)\n",
      "Time: Data Extraction: 44.47584772109985 seconds\n"
     ]
    },
    {
     "name": "stderr",
     "output_type": "stream",
     "text": [
      "C:\\Users\\yuvra\\.conda\\envs\\EnvFlow\\lib\\site-packages\\sklearn\\linear_model\\_logistic.py:814: ConvergenceWarning: lbfgs failed to converge (status=1):\n",
      "STOP: TOTAL NO. of ITERATIONS REACHED LIMIT.\n",
      "\n",
      "Increase the number of iterations (max_iter) or scale the data as shown in:\n",
      "    https://scikit-learn.org/stable/modules/preprocessing.html\n",
      "Please also refer to the documentation for alternative solver options:\n",
      "    https://scikit-learn.org/stable/modules/linear_model.html#logistic-regression\n",
      "  n_iter_i = _check_optimize_result(\n"
     ]
    },
    {
     "name": "stdout",
     "output_type": "stream",
     "text": [
      "Time: Logistic Regression (sklearn): 32.335148334503174 seconds\n",
      "Logistic Regression Accuracy: 0.8478869586622826\n"
     ]
    },
    {
     "data": {
      "image/png": "[encoded data removed]",
      "text/plain": [
       "<Figure size 432x288 with 1 Axes>"
      ]
     },
     "metadata": {
      "needs_background": "light"
     },
     "output_type": "display_data"
    }
   ],
   "source": [
    "%run yuvraj.py"
   ]
  },
  {
   "cell_type": "markdown",
   "id": "660a4123-23a8-4a01-aa55-a2012b39b542",
   "metadata": {},
   "source": [
    "# Test changes"
   ]
  },
  {
   "cell_type": "code",
   "execution_count": 2,
   "id": "27236724-e281-4fe0-8de7-510640ab581e",
   "metadata": {},
   "outputs": [],
   "source": [
    "def prepDataForTraining(data):\n",
    "    predictorColNames = data.columns[1:]\n",
    "    X = np.array(data[predictorColNames])\n",
    "    targetColNames = data.columns[0]\n",
    "    Y = np.array(data[data.columns[0]])\n",
    "\n",
    "    dataDict = {'X':X,\n",
    "                'Y':Y,\n",
    "                'predictorNames':predictorColNames,\n",
    "                'targetName':targetColNames}\n",
    "    return dataDict\n",
    "\n",
    "dataDict = prepDataForTraining(data)\n",
    "XTrain,XTest,YTrain,YTest,idxTrain,idxTest = splitCV(dataDict['X'],\n",
    "                                                     dataDict['Y'],\n",
    "                                                     returnIdx=True).testTrain(testRatio=0.5)\n"
   ]
  },
  {
   "cell_type": "code",
   "execution_count": 3,
   "id": "804d650f-a15d-4f34-bd45-4821ae4b78b7",
   "metadata": {},
   "outputs": [
    {
     "data": {
      "text/plain": [
       "array([[3.35e-01, 6.10e+01, 6.10e+01, ..., 0.00e+00, 0.00e+00, 1.00e+00],\n",
       "       [9.70e-02, 5.00e+01, 5.00e+01, ..., 0.00e+00, 1.00e+00, 0.00e+00],\n",
       "       [0.00e+00, 6.40e+01, 6.40e+01, ..., 0.00e+00, 1.00e+00, 0.00e+00],\n",
       "       ...,\n",
       "       [4.00e-02, 7.50e+01, 7.50e+01, ..., 0.00e+00, 1.00e+00, 0.00e+00],\n",
       "       [0.00e+00, 4.50e+01, 4.20e+01, ..., 0.00e+00, 1.00e+00, 0.00e+00],\n",
       "       [0.00e+00, 5.60e+01, 5.60e+01, ..., 0.00e+00, 1.00e+00, 0.00e+00]])"
      ]
     },
     "execution_count": 3,
     "metadata": {},
     "output_type": "execute_result"
    }
   ],
   "source": [
    "XTrain"
   ]
  },
  {
   "cell_type": "code",
   "execution_count": null,
   "id": "2a0e58ea-e4c8-4aef-a06e-527c08cad567",
   "metadata": {},
   "outputs": [],
   "source": []
  }
 ],
 "metadata": {
  "kernelspec": {
   "display_name": "Python 3 (ipykernel)",
   "language": "python",
   "name": "python3"
  },
  "language_info": {
   "codemirror_mode": {
    "name": "ipython",
    "version": 3
   },
   "file_extension": ".py",
   "mimetype": "text/x-python",
   "name": "python",
   "nbconvert_exporter": "python",
   "pygments_lexer": "ipython3",
   "version": "3.9.7"
  }
 },
 "nbformat": 4,
 "nbformat_minor": 5
}
